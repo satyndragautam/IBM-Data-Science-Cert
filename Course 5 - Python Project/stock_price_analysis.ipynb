#!/usr/bin/env python
# coding: utf-8

# <h1 style="text-align:center">💹 Stock Price Analysis</h1>

# <center> <h3> Author: Satyndra Kumar Gautam</h3>Data Scientist, Data Analyst, Business Interlligence, Data Mining</center>

# 
# 
# ## Introduction
# 

# A company's stock share is a piece of the company more precisely:
# <p><b>A stock (also known as equity) is a security that represents the ownership of a fraction of a corporation. This
# entitles the owner of the stock to a proportion of the corporation's assets and profits equal to how much stock they own. Units of stock are called "shares." [1]</p></b>
# 
# An investor can buy a stock and sell it later. If the stock price increases, the investor profits, If it decreases,the investor with incur a loss.  Determining the stock price is complex; it depends on the number of outstanding shares, the size of the company's future profits, and much more. People trade stocks throughout the day the stock ticker is a report of the price of a certain stock, updated continuously throughout the trading session by the various stock market exchanges. 
# <p>You are a data scientist working for a hedge fund; it's your job to determine any suspicious stock activity. In this lab you will extract stock data using a Python library. We will use the <coode>yfinance</code> library, it allows us to extract data for stocks returning data in a pandas dataframe. You will use the lab to extract.</p>

# <h2>Table of Contents</h2>
# <div class="alert alert-block alert-info" style="margin-top: 20px">
#     <ul>
#         <li>Using yfinance to Extract Stock Info</li>
#         <li>Using yfinance to Extract Historical Share Price Data</li>
#         <li>Using yfinance to Extract Historical Dividends Data</li>
#         <li>Exercise</li>
#     </ul>
# <p>
#     Estimated Time Needed: <strong>30 min</strong></p>
# </div>
# 
# <hr>
# 

# In[23]:


get_ipython().system('pip install yfinance==0.2.4')
#!pip install pandas==1.3.3


# In[40]:


import yfinance as yf
import pandas as pd
from datetime import datetime


# ### Using the yfinance Library to extract stock data

# Using the `Ticker` module we can create an object that will allow us to access functions to extract data. To do this we need to provide the ticker symbol for the stock, here the company is Apple and the ticker symbol is `AAPL`.
# 

# In[25]:


apple= yf.Ticker('AAPL')
apple


# In[35]:


apple_share_price_data = apple.history(period="90y")
apple_share_price_data 


# # ->
# Let's try adding multiple companies into one list and set the ticker to show all the values

# In[51]:


end_date = datetime.now().strftime('%Y-%m-%d')

companies = ['AMZN','GOOG','WMT','TSLA','META', 'NFLX'] 
tickers = yf.Tickers(companies)
tickers_hist = tickers.history(period='5y')
tickers_hist


# In[77]:


tickerStrings = ['AAPL', 'MSFT']
df_list = list()
for company_name in tickerStrings:
    data = yf.download(company_name, group_by="Ticker", period='5y')
    data['company_name'] = company_name  # add this column because the dataframe doesn't contain a column with the ticker
    df_list.append(data)

# combine all dataframes into a single dataframe
df = pd.concat(df_list)
df.head()


# # -> 
# 
# Just playing around with functions and yfinance

# In[79]:


# getting the descriptibve values grouped by ticker (companies)

df_des = df.groupby('company_name').describe()
print(df_des)

df_des_by_column = df.groupby('company_name')['Volume'].describe()
print(df_des_by_column)


# In[ ]:




